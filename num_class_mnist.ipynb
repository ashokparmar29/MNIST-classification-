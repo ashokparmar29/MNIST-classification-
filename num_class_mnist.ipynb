{
  "nbformat": 4,
  "nbformat_minor": 0,
  "metadata": {
    "colab": {
      "name": "num_class_mnist.ipynb",
      "provenance": []
    },
    "kernelspec": {
      "name": "python3",
      "display_name": "Python 3"
    },
    "language_info": {
      "name": "python"
    }
  },
  "cells": [
    {
      "cell_type": "code",
      "metadata": {
        "colab": {
          "base_uri": "https://localhost:8080/"
        },
        "id": "VgkC8saIZba3",
        "outputId": "3b6c88d1-8d06-44b6-f469-b777cce82442"
      },
      "source": [
        "from keras.datasets import mnist\n",
        "(train_X,train_Y), (test_X,test_Y) = mnist.load_data()"
      ],
      "execution_count": null,
      "outputs": [
        {
          "output_type": "stream",
          "text": [
            "Downloading data from https://storage.googleapis.com/tensorflow/tf-keras-datasets/mnist.npz\n",
            "11493376/11490434 [==============================] - 0s 0us/step\n",
            "11501568/11490434 [==============================] - 0s 0us/step\n"
          ],
          "name": "stdout"
        }
      ]
    },
    {
      "cell_type": "code",
      "metadata": {
        "colab": {
          "base_uri": "https://localhost:8080/"
        },
        "id": "mVKwzlIza2iM",
        "outputId": "a6687bdb-fddc-450e-d346-eb74cfbaf5cc"
      },
      "source": [
        "import tensorflow as tf\n",
        "from tensorflow import keras\n",
        "import numpy as np\n",
        "print(\"TF version:\", tf.__version__)\n",
        "import itertools\n",
        "import os\n",
        "import tensorflow_hub as hub\n",
        "print(\"Hub version:\", hub.__version__)\n",
        "print(\"GPU is\", \"available\" if tf.test.is_gpu_available() else \"NOT AVAILABLE\")"
      ],
      "execution_count": null,
      "outputs": [
        {
          "output_type": "stream",
          "text": [
            "TF version: 2.5.0\n",
            "Hub version: 0.12.0\n",
            "WARNING:tensorflow:From <ipython-input-2-4a08fdc02e50>:9: is_gpu_available (from tensorflow.python.framework.test_util) is deprecated and will be removed in a future version.\n",
            "Instructions for updating:\n",
            "Use `tf.config.list_physical_devices('GPU')` instead.\n",
            "GPU is NOT AVAILABLE\n"
          ],
          "name": "stdout"
        }
      ]
    },
    {
      "cell_type": "code",
      "metadata": {
        "colab": {
          "base_uri": "https://localhost:8080/"
        },
        "id": "m0057GIBb0Dw",
        "outputId": "451b32db-15d4-43c6-9942-3a313a72c7d5"
      },
      "source": [
        "\n",
        "#from keras.utils import to_categorical\n",
        "import matplotlib.pyplot as plt\n",
        "%matplotlib inline\n",
        "\n",
        "print('Training data shape : ', train_X.shape, train_Y.shape)\n",
        "\n",
        "print('Testing data shape : ', test_X.shape, test_Y.shape)"
      ],
      "execution_count": null,
      "outputs": [
        {
          "output_type": "stream",
          "text": [
            "Training data shape :  (60000, 28, 28) (60000,)\n",
            "Testing data shape :  (10000, 28, 28) (10000,)\n"
          ],
          "name": "stdout"
        }
      ]
    },
    {
      "cell_type": "code",
      "metadata": {
        "colab": {
          "base_uri": "https://localhost:8080/"
        },
        "id": "lGAzzC1PccKB",
        "outputId": "b0e83b9e-bd0b-40ae-e5ee-8ca8c64de8dd"
      },
      "source": [
        "classes = np.unique(train_Y)\n",
        "nClasses = len(classes)\n",
        "print('Total number of outputs : ', nClasses)\n",
        "print('Output classes : ', classes)"
      ],
      "execution_count": null,
      "outputs": [
        {
          "output_type": "stream",
          "text": [
            "Total number of outputs :  10\n",
            "Output classes :  [0 1 2 3 4 5 6 7 8 9]\n"
          ],
          "name": "stdout"
        }
      ]
    },
    {
      "cell_type": "code",
      "metadata": {
        "colab": {
          "base_uri": "https://localhost:8080/",
          "height": 208
        },
        "id": "w2ZYomaHhQBz",
        "outputId": "e7162466-6722-47d5-a76c-5d2393417f37"
      },
      "source": [
        "plt.figure(figsize=[5,5])\n",
        "\n",
        "# Display the first image in training data\n",
        "plt.subplot(121)\n",
        "plt.imshow(train_X[0,:,:], cmap='gray')\n",
        "plt.title(\"Ground Truth : {}\".format(train_Y[0]))\n",
        "\n",
        "# Display the first image in testing data\n",
        "plt.subplot(122)\n",
        "plt.imshow(test_X[0,:,:], cmap='gray')\n",
        "plt.title(\"Ground Truth : {}\".format(test_Y[0]))"
      ],
      "execution_count": null,
      "outputs": [
        {
          "output_type": "execute_result",
          "data": {
            "text/plain": [
              "Text(0.5, 1.0, 'Ground Truth : 7')"
            ]
          },
          "metadata": {
            "tags": []
          },
          "execution_count": 5
        },
        {
          "output_type": "display_data",
          "data": {
            "image/png": "[encoded data removed]",
            "text/plain": [
              "<Figure size 360x360 with 2 Axes>"
            ]
          },
          "metadata": {
            "tags": [],
            "needs_background": "light"
          }
        }
      ]
    },
    {
      "cell_type": "code",
      "metadata": {
        "colab": {
          "base_uri": "https://localhost:8080/"
        },
        "id": "Rt8waP4YjbDe",
        "outputId": "c77ea59e-3aac-4628-8de7-201b9e41338a"
      },
      "source": [
        "help(np.reshape)"
      ],
      "execution_count": null,
      "outputs": [
        {
          "output_type": "stream",
          "text": [
            "Help on function reshape in module numpy:\n",
            "\n",
            "reshape(a, newshape, order='C')\n",
            "    Gives a new shape to an array without changing its data.\n",
            "    \n",
            "    Parameters\n",
            "    ----------\n",
            "    a : array_like\n",
            "        Array to be reshaped.\n",
            "    newshape : int or tuple of ints\n",
            "        The new shape should be compatible with the original shape. If\n",
            "        an integer, then the result will be a 1-D array of that length.\n",
            "        One shape dimension can be -1. In this case, the value is\n",
            "        inferred from the length of the array and remaining dimensions.\n",
            "    order : {'C', 'F', 'A'}, optional\n",
            "        Read the elements of `a` using this index order, and place the\n",
            "        elements into the reshaped array using this index order.  'C'\n",
            "        means to read / write the elements using C-like index order,\n",
            "        with the last axis index changing fastest, back to the first\n",
            "        axis index changing slowest. 'F' means to read / write the\n",
            "        elements using Fortran-like index order, with the first index\n",
            "        changing fastest, and the last index changing slowest. Note that\n",
            "        the 'C' and 'F' options take no account of the memory layout of\n",
            "        the underlying array, and only refer to the order of indexing.\n",
            "        'A' means to read / write the elements in Fortran-like index\n",
            "        order if `a` is Fortran *contiguous* in memory, C-like order\n",
            "        otherwise.\n",
            "    \n",
            "    Returns\n",
            "    -------\n",
            "    reshaped_array : ndarray\n",
            "        This will be a new view object if possible; otherwise, it will\n",
            "        be a copy.  Note there is no guarantee of the *memory layout* (C- or\n",
            "        Fortran- contiguous) of the returned array.\n",
            "    \n",
            "    See Also\n",
            "    --------\n",
            "    ndarray.reshape : Equivalent method.\n",
            "    \n",
            "    Notes\n",
            "    -----\n",
            "    It is not always possible to change the shape of an array without\n",
            "    copying the data. If you want an error to be raised when the data is copied,\n",
            "    you should assign the new shape to the shape attribute of the array::\n",
            "    \n",
            "     >>> a = np.zeros((10, 2))\n",
            "    \n",
            "     # A transpose makes the array non-contiguous\n",
            "     >>> b = a.T\n",
            "    \n",
            "     # Taking a view makes it possible to modify the shape without modifying\n",
            "     # the initial object.\n",
            "     >>> c = b.view()\n",
            "     >>> c.shape = (20)\n",
            "     Traceback (most recent call last):\n",
            "        ...\n",
            "     AttributeError: Incompatible shape for in-place modification. Use\n",
            "     `.reshape()` to make a copy with the desired shape.\n",
            "    \n",
            "    The `order` keyword gives the index ordering both for *fetching* the values\n",
            "    from `a`, and then *placing* the values into the output array.\n",
            "    For example, let's say you have an array:\n",
            "    \n",
            "    >>> a = np.arange(6).reshape((3, 2))\n",
            "    >>> a\n",
            "    array([[0, 1],\n",
            "           [2, 3],\n",
            "           [4, 5]])\n",
            "    \n",
            "    You can think of reshaping as first raveling the array (using the given\n",
            "    index order), then inserting the elements from the raveled array into the\n",
            "    new array using the same kind of index ordering as was used for the\n",
            "    raveling.\n",
            "    \n",
            "    >>> np.reshape(a, (2, 3)) # C-like index ordering\n",
            "    array([[0, 1, 2],\n",
            "           [3, 4, 5]])\n",
            "    >>> np.reshape(np.ravel(a), (2, 3)) # equivalent to C ravel then C reshape\n",
            "    array([[0, 1, 2],\n",
            "           [3, 4, 5]])\n",
            "    >>> np.reshape(a, (2, 3), order='F') # Fortran-like index ordering\n",
            "    array([[0, 4, 3],\n",
            "           [2, 1, 5]])\n",
            "    >>> np.reshape(np.ravel(a, order='F'), (2, 3), order='F')\n",
            "    array([[0, 4, 3],\n",
            "           [2, 1, 5]])\n",
            "    \n",
            "    Examples\n",
            "    --------\n",
            "    >>> a = np.array([[1,2,3], [4,5,6]])\n",
            "    >>> np.reshape(a, 6)\n",
            "    array([1, 2, 3, 4, 5, 6])\n",
            "    >>> np.reshape(a, 6, order='F')\n",
            "    array([1, 4, 2, 5, 3, 6])\n",
            "    \n",
            "    >>> np.reshape(a, (3,-1))       # the unspecified value is inferred to be 2\n",
            "    array([[1, 2],\n",
            "           [3, 4],\n",
            "           [5, 6]])\n",
            "\n"
          ],
          "name": "stdout"
        }
      ]
    },
    {
      "cell_type": "code",
      "metadata": {
        "colab": {
          "base_uri": "https://localhost:8080/"
        },
        "id": "F8SdQCyOQGO9",
        "outputId": "a0d336fb-1c03-4160-c86c-8ad3edd0f185"
      },
      "source": [
        "train_X = train_X.reshape(-1, 28,28, 1)\n",
        "test_X = test_X.reshape(-1, 28,28, 1)\n",
        "train_X.shape, test_X.shape"
      ],
      "execution_count": null,
      "outputs": [
        {
          "output_type": "execute_result",
          "data": {
            "text/plain": [
              "((60000, 28, 28, 1), (10000, 28, 28, 1))"
            ]
          },
          "metadata": {
            "tags": []
          },
          "execution_count": 7
        }
      ]
    },
    {
      "cell_type": "code",
      "metadata": {
        "id": "yeamcREiXH0S"
      },
      "source": [
        "from tensorflow.keras.utils import to_categorical"
      ],
      "execution_count": null,
      "outputs": []
    },
    {
      "cell_type": "code",
      "metadata": {
        "colab": {
          "base_uri": "https://localhost:8080/"
        },
        "id": "8hfrjxTMX6f4",
        "outputId": "403ccc8f-af73-4622-aac3-4b04467359b2"
      },
      "source": [
        "train_Y_one_hot = to_categorical(train_Y)\n",
        "test_Y_one_hot = to_categorical(test_Y)\n",
        "print('Original label:', train_Y[0])\n",
        "print('After conversion to one-hot:', train_Y_one_hot[0])"
      ],
      "execution_count": null,
      "outputs": [
        {
          "output_type": "stream",
          "text": [
            "Original label: 5\n",
            "After conversion to one-hot: [0. 0. 0. 0. 0. 1. 0. 0. 0. 0.]\n"
          ],
          "name": "stdout"
        }
      ]
    },
    {
      "cell_type": "code",
      "metadata": {
        "colab": {
          "base_uri": "https://localhost:8080/"
        },
        "id": "sbKjiuKlYsvx",
        "outputId": "89eed932-84ce-44cb-e49a-fd90c435c5b9"
      },
      "source": [
        "from sklearn.model_selection import train_test_split\n",
        "train_X,valid_X,train_label,valid_label = train_test_split(train_X, train_Y_one_hot, test_size=0.2, random_state=13)\n",
        "train_X.shape,valid_X.shape,train_label.shape,valid_label.shape"
      ],
      "execution_count": null,
      "outputs": [
        {
          "output_type": "execute_result",
          "data": {
            "text/plain": [
              "((48000, 28, 28, 1), (12000, 28, 28, 1), (48000, 10), (12000, 10))"
            ]
          },
          "metadata": {
            "tags": []
          },
          "execution_count": 11
        }
      ]
    },
    {
      "cell_type": "markdown",
      "metadata": {
        "id": "ohGsgleHaGgZ"
      },
      "source": [
        "importing necessary modules to train the model"
      ]
    },
    {
      "cell_type": "code",
      "metadata": {
        "id": "FW4jcsZKY0M3"
      },
      "source": [
        "import keras\n",
        "from keras.models import Sequential,Input,Model\n",
        "from keras.layers import Dense, Dropout, Flatten\n",
        "from keras.layers import Conv2D, MaxPooling2D\n",
        "from keras.layers.normalization import BatchNormalization\n",
        "from keras.layers.advanced_activations import LeakyReLU"
      ],
      "execution_count": null,
      "outputs": []
    },
    {
      "cell_type": "code",
      "metadata": {
        "id": "nxEIgE7SafC9"
      },
      "source": [
        "batch_size = 64\n",
        "epochs = 20\n",
        "num_classes = 10"
      ],
      "execution_count": null,
      "outputs": []
    },
    {
      "cell_type": "markdown",
      "metadata": {
        "id": "WUGBsBCgbRi_"
      },
      "source": [
        "Neural Network Architecture\n",
        "\n",
        "The ReLU function allows the activation to be thresholded at zero. However, during the training, ReLU units can \"die\". This can happen when a large gradient flows through a ReLU neuron: it can cause the weights to update in such a way that the neuron will never activate on any data point again. If this happens, then the gradient flowing through the unit will forever be zero from that point on. Leaky ReLUs attempt to solve this: the function will not be zero but will instead have a small negative slope."
      ]
    },
    {
      "cell_type": "code",
      "metadata": {
        "id": "MQcvSNNNa-xQ"
      },
      "source": [
        "fashion_model = Sequential()\n",
        "fashion_model.add(Conv2D(32, kernel_size=(3, 3),activation='linear',input_shape=(28,28,1),padding='same'))\n",
        "fashion_model.add(LeakyReLU(alpha=0.1))\n",
        "fashion_model.add(MaxPooling2D((2, 2),padding='same'))\n",
        "fashion_model.add(Conv2D(64, (3, 3), activation='linear',padding='same'))\n",
        "fashion_model.add(LeakyReLU(alpha=0.1))\n",
        "fashion_model.add(MaxPooling2D(pool_size=(2, 2),padding='same'))\n",
        "fashion_model.add(Conv2D(128, (3, 3), activation='linear',padding='same'))\n",
        "fashion_model.add(LeakyReLU(alpha=0.1))                  \n",
        "fashion_model.add(MaxPooling2D(pool_size=(2, 2),padding='same'))\n",
        "fashion_model.add(Flatten())\n",
        "fashion_model.add(Dense(128, activation='linear'))\n",
        "fashion_model.add(LeakyReLU(alpha=0.1))                  \n",
        "fashion_model.add(Dense(num_classes, activation='softmax'))"
      ],
      "execution_count": null,
      "outputs": []
    },
    {
      "cell_type": "markdown",
      "metadata": {
        "id": "wdV71qMAeRI-"
      },
      "source": [
        "model created in last step is now compiled using Adam optimizer. categorical cross entropy is used "
      ]
    },
    {
      "cell_type": "code",
      "metadata": {
        "id": "yPRgSfSVdLtt"
      },
      "source": [
        "fashion_model.compile(loss=keras.losses.categorical_crossentropy, optimizer=keras.optimizers.Adam(),metrics=['accuracy'])"
      ],
      "execution_count": null,
      "outputs": []
    },
    {
      "cell_type": "code",
      "metadata": {
        "colab": {
          "base_uri": "https://localhost:8080/"
        },
        "id": "Bbtyph0HeMD_",
        "outputId": "2f839ad9-68a3-4f79-d8bf-4d40636ae07f"
      },
      "source": [
        "fashion_model.summary()"
      ],
      "execution_count": null,
      "outputs": [
        {
          "output_type": "stream",
          "text": [
            "Model: \"sequential\"\n",
            "_________________________________________________________________\n",
            "Layer (type)                 Output Shape              Param #   \n",
            "=================================================================\n",
            "conv2d (Conv2D)              (None, 28, 28, 32)        320       \n",
            "_________________________________________________________________\n",
            "leaky_re_lu (LeakyReLU)      (None, 28, 28, 32)        0         \n",
            "_________________________________________________________________\n",
            "max_pooling2d (MaxPooling2D) (None, 14, 14, 32)        0         \n",
            "_________________________________________________________________\n",
            "conv2d_1 (Conv2D)            (None, 14, 14, 64)        18496     \n",
            "_________________________________________________________________\n",
            "leaky_re_lu_1 (LeakyReLU)    (None, 14, 14, 64)        0         \n",
            "_________________________________________________________________\n",
            "max_pooling2d_1 (MaxPooling2 (None, 7, 7, 64)          0         \n",
            "_________________________________________________________________\n",
            "conv2d_2 (Conv2D)            (None, 7, 7, 128)         73856     \n",
            "_________________________________________________________________\n",
            "leaky_re_lu_2 (LeakyReLU)    (None, 7, 7, 128)         0         \n",
            "_________________________________________________________________\n",
            "max_pooling2d_2 (MaxPooling2 (None, 4, 4, 128)         0         \n",
            "_________________________________________________________________\n",
            "flatten (Flatten)            (None, 2048)              0         \n",
            "_________________________________________________________________\n",
            "dense (Dense)                (None, 128)               262272    \n",
            "_________________________________________________________________\n",
            "leaky_re_lu_3 (LeakyReLU)    (None, 128)               0         \n",
            "_________________________________________________________________\n",
            "dense_1 (Dense)              (None, 10)                1290      \n",
            "=================================================================\n",
            "Total params: 356,234\n",
            "Trainable params: 356,234\n",
            "Non-trainable params: 0\n",
            "_________________________________________________________________\n"
          ],
          "name": "stdout"
        }
      ]
    },
    {
      "cell_type": "code",
      "metadata": {
        "colab": {
          "base_uri": "https://localhost:8080/"
        },
        "id": "hVY9tUMIetFc",
        "outputId": "475cb468-c650-4069-aab0-70aeabf84f9e"
      },
      "source": [
        "fashion_train = fashion_model.fit(train_X, train_label, batch_size=batch_size,epochs=epochs,verbose=1,validation_data=(valid_X, valid_label))"
      ],
      "execution_count": null,
      "outputs": [
        {
          "output_type": "stream",
          "text": [
            "Epoch 1/20\n",
            "750/750 [==============================] - 101s 115ms/step - loss: 1.8773 - accuracy: 0.8604 - val_loss: 0.0677 - val_accuracy: 0.9801\n",
            "Epoch 2/20\n",
            "750/750 [==============================] - 86s 115ms/step - loss: 0.0531 - accuracy: 0.9829 - val_loss: 0.0588 - val_accuracy: 0.9827\n",
            "Epoch 3/20\n",
            "750/750 [==============================] - 86s 115ms/step - loss: 0.0347 - accuracy: 0.9886 - val_loss: 0.0436 - val_accuracy: 0.9874\n",
            "Epoch 4/20\n",
            "750/750 [==============================] - 87s 116ms/step - loss: 0.0321 - accuracy: 0.9899 - val_loss: 0.0527 - val_accuracy: 0.9851\n",
            "Epoch 5/20\n",
            "750/750 [==============================] - 86s 115ms/step - loss: 0.0240 - accuracy: 0.9922 - val_loss: 0.0548 - val_accuracy: 0.9869\n",
            "Epoch 6/20\n",
            "750/750 [==============================] - 86s 115ms/step - loss: 0.0248 - accuracy: 0.9924 - val_loss: 0.0722 - val_accuracy: 0.9825\n",
            "Epoch 7/20\n",
            "750/750 [==============================] - 86s 114ms/step - loss: 0.0262 - accuracy: 0.9926 - val_loss: 0.0679 - val_accuracy: 0.9850\n",
            "Epoch 8/20\n",
            "750/750 [==============================] - 86s 115ms/step - loss: 0.0241 - accuracy: 0.9922 - val_loss: 0.0629 - val_accuracy: 0.9818\n",
            "Epoch 9/20\n",
            "750/750 [==============================] - 86s 115ms/step - loss: 0.0225 - accuracy: 0.9930 - val_loss: 0.0542 - val_accuracy: 0.9887\n",
            "Epoch 10/20\n",
            "750/750 [==============================] - 86s 115ms/step - loss: 0.0228 - accuracy: 0.9936 - val_loss: 0.0648 - val_accuracy: 0.9880\n",
            "Epoch 11/20\n",
            "750/750 [==============================] - 86s 115ms/step - loss: 0.0219 - accuracy: 0.9939 - val_loss: 0.0650 - val_accuracy: 0.9849\n",
            "Epoch 12/20\n",
            "750/750 [==============================] - 86s 115ms/step - loss: 0.0216 - accuracy: 0.9942 - val_loss: 0.0668 - val_accuracy: 0.9874\n",
            "Epoch 13/20\n",
            "750/750 [==============================] - 86s 115ms/step - loss: 0.0201 - accuracy: 0.9949 - val_loss: 0.0836 - val_accuracy: 0.9843\n",
            "Epoch 14/20\n",
            "750/750 [==============================] - 86s 115ms/step - loss: 0.0234 - accuracy: 0.9936 - val_loss: 0.0855 - val_accuracy: 0.9839\n",
            "Epoch 15/20\n",
            "750/750 [==============================] - 86s 115ms/step - loss: 0.0156 - accuracy: 0.9954 - val_loss: 0.1124 - val_accuracy: 0.9797\n",
            "Epoch 16/20\n",
            "750/750 [==============================] - 86s 115ms/step - loss: 0.0223 - accuracy: 0.9945 - val_loss: 0.1105 - val_accuracy: 0.9837\n",
            "Epoch 17/20\n",
            "750/750 [==============================] - 86s 115ms/step - loss: 0.0221 - accuracy: 0.9938 - val_loss: 0.0896 - val_accuracy: 0.9872\n",
            "Epoch 18/20\n",
            "750/750 [==============================] - 86s 115ms/step - loss: 0.0175 - accuracy: 0.9955 - val_loss: 0.0986 - val_accuracy: 0.9841\n",
            "Epoch 19/20\n",
            "750/750 [==============================] - 86s 115ms/step - loss: 0.0193 - accuracy: 0.9958 - val_loss: 0.1322 - val_accuracy: 0.9833\n",
            "Epoch 20/20\n",
            "750/750 [==============================] - 87s 115ms/step - loss: 0.0208 - accuracy: 0.9955 - val_loss: 0.0713 - val_accuracy: 0.9898\n"
          ],
          "name": "stdout"
        }
      ]
    },
    {
      "cell_type": "markdown",
      "metadata": {
        "id": "8EVXnk0JnqTq"
      },
      "source": [
        "it looks like the model is overfitting, as the validation loss is 0.5445 and the validation accuracy is 90%. Overfitting gives an intuition that the network has memorized the training data very well but is not guaranteed to work on unseen data, and that is why there is a difference in the training and validation accuracy.\n",
        "model perform much better after adding a Dropout layer into the network and keeping all the other layers unchanged.\n",
        "let's evaluate the performance of your model on the test set "
      ]
    },
    {
      "cell_type": "markdown",
      "metadata": {
        "id": "jxxpqO_Hq8T8"
      },
      "source": [
        "above 750 shows no of batches..\n",
        "we get it by no of trg samples/batch size = 48000/64 = 750\n"
      ]
    },
    {
      "cell_type": "markdown",
      "metadata": {
        "id": "Bvowgy52sjQx"
      },
      "source": [
        "Now, let's evaluate the performance of the model on the test set "
      ]
    },
    {
      "cell_type": "code",
      "metadata": {
        "id": "_zwx4XNOnp6n"
      },
      "source": [
        "test_eval = fashion_model.evaluate(test_X, test_Y_one_hot, verbose=0)"
      ],
      "execution_count": null,
      "outputs": []
    },
    {
      "cell_type": "code",
      "metadata": {
        "colab": {
          "base_uri": "https://localhost:8080/"
        },
        "id": "-Q8PyOjrt2gd",
        "outputId": "3003bc6e-eeab-4d5c-b4c6-92969300071b"
      },
      "source": [
        "print('Test loss:', test_eval[0])\n",
        "print('Test accuracy:', test_eval[1])"
      ],
      "execution_count": null,
      "outputs": [
        {
          "output_type": "stream",
          "text": [
            "Test loss: 0.059025343507528305\n",
            "Test accuracy: 0.9907000064849854\n"
          ],
          "name": "stdout"
        }
      ]
    },
    {
      "cell_type": "code",
      "metadata": {
        "colab": {
          "base_uri": "https://localhost:8080/",
          "height": 545
        },
        "id": "Vzfp_BVOt5KO",
        "outputId": "daa33eb4-de67-4c68-b93f-ef48d2eb586c"
      },
      "source": [
        "accuracy = fashion_train.history['accuracy']\n",
        "val_accuracy = fashion_train.history['val_accuracy']\n",
        "loss = fashion_train.history['loss']\n",
        "val_loss = fashion_train.history['val_loss']\n",
        "epochs = range(len(accuracy))\n",
        "plt.plot(epochs, accuracy, 'bo', label='Training accuracy')\n",
        "plt.plot(epochs, val_accuracy, 'b', label='Validation accuracy')\n",
        "plt.title('Training and validation accuracy')\n",
        "plt.legend()\n",
        "plt.figure()\n",
        "plt.plot(epochs, loss, 'bo', label='Training loss')\n",
        "plt.plot(epochs, val_loss, 'b', label='Validation loss')\n",
        "plt.title('Training and validation loss')\n",
        "plt.legend()\n",
        "plt.show()"
      ],
      "execution_count": null,
      "outputs": [
        {
          "output_type": "display_data",
          "data": {
            "image/png": "[encoded data removed]",
            "text/plain": [
              "<Figure size 432x288 with 1 Axes>"
            ]
          },
          "metadata": {
            "tags": [],
            "needs_background": "light"
          }
        },
        {
          "output_type": "display_data",
          "data": {
            "image/png": "[encoded data removed]",
            "text/plain": [
              "<Figure size 432x288 with 1 Axes>"
            ]
          },
          "metadata": {
            "tags": [],
            "needs_background": "light"
          }
        }
      ]
    },
    {
      "cell_type": "code",
      "metadata": {
        "id": "cnWNHV_JwOC_"
      },
      "source": [
        "predicted_classes = fashion_model.predict(test_X)"
      ],
      "execution_count": null,
      "outputs": []
    },
    {
      "cell_type": "code",
      "metadata": {
        "colab": {
          "base_uri": "https://localhost:8080/"
        },
        "id": "FVrrNJ6_wbwp",
        "outputId": "3b3e603c-6dc8-464d-927d-907971342c04"
      },
      "source": [
        "predicted_classes = np.argmax(np.round(predicted_classes),axis=1)\n",
        "predicted_classes.shape, test_Y.shape"
      ],
      "execution_count": null,
      "outputs": [
        {
          "output_type": "execute_result",
          "data": {
            "text/plain": [
              "((10000,), (10000,))"
            ]
          },
          "metadata": {
            "tags": []
          },
          "execution_count": 23
        }
      ]
    },
    {
      "cell_type": "code",
      "metadata": {
        "colab": {
          "base_uri": "https://localhost:8080/",
          "height": 313
        },
        "id": "mipMSihmx_Xb",
        "outputId": "da4abba1-5b77-445b-d559-8cdaf85b6e03"
      },
      "source": [
        "correct = np.where(predicted_classes==test_Y)[0]\n",
        "print(\"Found %d correct labels\" % len(correct))\n",
        "for i, correct in enumerate(correct[:9]):\n",
        "    plt.subplot(3,3,i+1)\n",
        "    plt.imshow(test_X[correct].reshape(28,28), cmap='gray', interpolation='none')\n",
        "    plt.title(\"Predicted {}, Class {}\".format(predicted_classes[correct], test_Y[correct]))\n",
        "    plt.tight_layout()"
      ],
      "execution_count": null,
      "outputs": [
        {
          "output_type": "stream",
          "text": [
            "Found 9907 correct labels\n"
          ],
          "name": "stdout"
        },
        {
          "output_type": "display_data",
          "data": {
            "image/png": "[encoded data removed]",
            "text/plain": [
              "<Figure size 432x288 with 9 Axes>"
            ]
          },
          "metadata": {
            "tags": [],
            "needs_background": "light"
          }
        }
      ]
    },
    {
      "cell_type": "code",
      "metadata": {
        "colab": {
          "base_uri": "https://localhost:8080/",
          "height": 313
        },
        "id": "VoT7LwgdyPEW",
        "outputId": "afc370d0-58af-4fe6-c6a9-246a8241a469"
      },
      "source": [
        "incorrect = np.where(predicted_classes!=test_Y)[0]\n",
        "print(\"Found %d incorrect labels\" % len(incorrect))\n",
        "for i, incorrect in enumerate(incorrect[:9]):\n",
        "    plt.subplot(3,3,i+1)\n",
        "    plt.imshow(test_X[incorrect].reshape(28,28), cmap='gray', interpolation='none')\n",
        "    plt.title(\"Predicted {}, Class {}\".format(predicted_classes[incorrect], test_Y[incorrect]))\n",
        "    plt.tight_layout()"
      ],
      "execution_count": null,
      "outputs": [
        {
          "output_type": "stream",
          "text": [
            "Found 93 incorrect labels\n"
          ],
          "name": "stdout"
        },
        {
          "output_type": "display_data",
          "data": {
            "image/png": "[encoded data removed]",
            "text/plain": [
              "<Figure size 432x288 with 9 Axes>"
            ]
          },
          "metadata": {
            "tags": [],
            "needs_background": "light"
          }
        }
      ]
    },
    {
      "cell_type": "markdown",
      "metadata": {
        "id": "09JZaFsRy0vq"
      },
      "source": [
        "Classification report will help us in identifying the misclassified classes in more detail. You will be able to observe for which class the model performed bad out of the given ten classes."
      ]
    },
    {
      "cell_type": "code",
      "metadata": {
        "colab": {
          "base_uri": "https://localhost:8080/"
        },
        "id": "rkVuvs3Yy60B",
        "outputId": "fb6f6f2d-334e-4089-f531-608a739fd814"
      },
      "source": [
        "from sklearn.metrics import classification_report\n",
        "target_names = [\"Class {}\".format(i) for i in range(num_classes)]\n",
        "print(classification_report(test_Y, predicted_classes, target_names=target_names))"
      ],
      "execution_count": null,
      "outputs": [
        {
          "output_type": "stream",
          "text": [
            "              precision    recall  f1-score   support\n",
            "\n",
            "     Class 0       0.99      0.99      0.99       980\n",
            "     Class 1       0.99      1.00      1.00      1135\n",
            "     Class 2       0.99      0.99      0.99      1032\n",
            "     Class 3       1.00      0.99      0.99      1010\n",
            "     Class 4       0.99      0.99      0.99       982\n",
            "     Class 5       0.98      0.99      0.99       892\n",
            "     Class 6       0.99      0.99      0.99       958\n",
            "     Class 7       0.99      0.99      0.99      1028\n",
            "     Class 8       0.99      0.99      0.99       974\n",
            "     Class 9       0.99      0.98      0.99      1009\n",
            "\n",
            "    accuracy                           0.99     10000\n",
            "   macro avg       0.99      0.99      0.99     10000\n",
            "weighted avg       0.99      0.99      0.99     10000\n",
            "\n"
          ],
          "name": "stdout"
        }
      ]
    },
    {
      "cell_type": "code",
      "metadata": {
        "id": "z1ytxV6G0ce4"
      },
      "source": [
        ""
      ],
      "execution_count": null,
      "outputs": []
    }
  ]
}